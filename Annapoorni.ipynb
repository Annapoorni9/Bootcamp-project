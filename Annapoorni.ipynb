{
  "nbformat": 4,
  "nbformat_minor": 0,
  "metadata": {
    "colab": {
      "name": "Annapoorni.ipynb",
      "provenance": []
    },
    "kernelspec": {
      "name": "python3",
      "display_name": "Python 3"
    },
    "language_info": {
      "name": "python"
    }
  },
  "cells": [
    {
      "cell_type": "code",
      "metadata": {
        "colab": {
          "base_uri": "https://localhost:8080/"
        },
        "id": "NUFY5AXN5Dve",
        "outputId": "d66f965d-f46f-4859-edcc-3e8837570cec"
      },
      "source": [
        "import hashlib\n",
        "a=input('Enter the string:')\n",
        "result=hashlib.md5(a.encode())\n",
        "print('The hexadecimal equivalent of hash is:',end=\" \")\n",
        "print(result.hexdigest())"
      ],
      "execution_count": 1,
      "outputs": [
        {
          "output_type": "stream",
          "text": [
            "Enter the string:Annapoorni\n",
            "The hexadecimal equivalent of hash is: 3df2859cefad6d0176d6be5889c28af9\n"
          ],
          "name": "stdout"
        }
      ]
    },
    {
      "cell_type": "code",
      "metadata": {
        "colab": {
          "base_uri": "https://localhost:8080/"
        },
        "id": "ayKyjrYF6C9p",
        "outputId": "a0ef2510-bf4b-495c-a836-515d0e21bc07"
      },
      "source": [
        "import hashlib \n",
        "hash_object = hashlib.sha256(b'I am a good person')\n",
        "hex_dig = hash_object.hexdigest()\n",
        "print('HexaDigit: ',hex_dig)"
      ],
      "execution_count": 5,
      "outputs": [
        {
          "output_type": "stream",
          "text": [
            "HexaDigit:  cac434e3e0ed9beef777a41fbaaf6207f578cb62a4ef419a8942c6375130adc7\n"
          ],
          "name": "stdout"
        }
      ]
    },
    {
      "cell_type": "code",
      "metadata": {
        "colab": {
          "base_uri": "https://localhost:8080/"
        },
        "id": "ZmuJwyXL6byV",
        "outputId": "288e3fe4-6692-4431-b045-7cb895b7ac35"
      },
      "source": [
        "import hashlib\n",
        "hash_object = hashlib.sha1(b'python is a scripting language')\n",
        "hex_dig = hash_object.hexdigest()\n",
        "print(hex_dig)"
      ],
      "execution_count": 7,
      "outputs": [
        {
          "output_type": "stream",
          "text": [
            "c25f148e8d60a45d027488f68e036edcdde93bbc\n"
          ],
          "name": "stdout"
        }
      ]
    },
    {
      "cell_type": "code",
      "metadata": {
        "colab": {
          "base_uri": "https://localhost:8080/"
        },
        "id": "egPri1vW6pwg",
        "outputId": "ef4afdf2-d097-4cca-bd25-1db3efb83275"
      },
      "source": [
        "import hashlib\n",
        "hash_object = hashlib.sha512(b'Engineering graduate')\n",
        "hex_dig = hash_object.hexdigest()\n",
        "print(hex_dig)"
      ],
      "execution_count": 8,
      "outputs": [
        {
          "output_type": "stream",
          "text": [
            "aee1f276ecc5377f69890122e1d46d0cc371b20fc31c10a4f89b77737807cca80888826c6b65fe48167b181cfd076439334a9cac2d50064f15ffd6c3b9cc8ae4\n"
          ],
          "name": "stdout"
        }
      ]
    }
  ]
}